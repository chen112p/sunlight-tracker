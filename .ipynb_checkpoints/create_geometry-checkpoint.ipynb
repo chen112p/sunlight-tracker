{
 "cells": [
  {
   "cell_type": "code",
   "execution_count": 6,
   "id": "99077d63-e7d0-48bb-95d2-39ff97391883",
   "metadata": {
    "tags": []
   },
   "outputs": [],
   "source": [
    "from pysolar.solar import *\n",
    "import datetime\n",
    "import pytz\n",
    "import pyvista as pv\n",
    "#long_lat = [43.48573354070141, -80.48390007426949]\n",
    "\n",
    "#date = datetime.datetime(2023, 10, 8, 12, 29, 1, 130320, tzinfo=datetime.timezone.utc)"
   ]
  },
  {
   "cell_type": "code",
   "execution_count": 13,
   "id": "36029f49-e399-4060-a310-23d45b5cf016",
   "metadata": {},
   "outputs": [],
   "source": [
    "box = pv.Box(bounds = (-5,5,-5,5,0,5))\n",
    "plane = pv.Plane(center=(0.0, 0.0, 0.0), direction=(0.0, 0.0, 1.0), i_size=50, j_size=50, i_resolution=50, j_resolution=50)\n"
   ]
  },
  {
   "cell_type": "code",
   "execution_count": 14,
   "id": "26a2a8a2-502a-4de6-89fa-671d676ab76e",
   "metadata": {},
   "outputs": [
    {
     "data": {
      "application/vnd.jupyter.widget-view+json": {
       "model_id": "b5f853e6d0fc4170bff0925c15d94b85",
       "version_major": 2,
       "version_minor": 0
      },
      "text/plain": [
       "Widget(value=\"<iframe src='http://localhost:54505/index.html?ui=P_0x1b2cd4c2450_4&reconnect=auto' style='width…"
      ]
     },
     "metadata": {},
     "output_type": "display_data"
    }
   ],
   "source": [
    "p = pv.Plotter()\n",
    "p.add_mesh(box)\n",
    "p.add_mesh(plane,show_edges=True)\n",
    "p.show()"
   ]
  },
  {
   "cell_type": "code",
   "execution_count": null,
   "id": "63e4d4a4-972d-4f5a-a006-e45cc1322184",
   "metadata": {},
   "outputs": [],
   "source": []
  }
 ],
 "metadata": {
  "kernelspec": {
   "display_name": "Python 3 (ipykernel)",
   "language": "python",
   "name": "python3"
  },
  "language_info": {
   "codemirror_mode": {
    "name": "ipython",
    "version": 3
   },
   "file_extension": ".py",
   "mimetype": "text/x-python",
   "name": "python",
   "nbconvert_exporter": "python",
   "pygments_lexer": "ipython3",
   "version": "3.11.5"
  }
 },
 "nbformat": 4,
 "nbformat_minor": 5
}
