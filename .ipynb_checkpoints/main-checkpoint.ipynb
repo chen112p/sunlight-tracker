{
 "cells": [
  {
   "cell_type": "code",
   "execution_count": 160,
   "id": "a6ed2c9f-92bf-483c-8de1-d93ef1472349",
   "metadata": {},
   "outputs": [],
   "source": [
    "from pysolar.solar import *\n",
    "import datetime\n",
    "import pytz\n",
    "import pyvista as pv\n",
    "import numpy as np\n",
    "#load geometry\n",
    "plane = pv.read('geometry/plane.stl')\n",
    "box = pv.read('geometry/box.stl')\n",
    "central_points = plane.cell_centers()\n",
    "\n",
    "lat,long = [43.48574132496213, -80.48384643009003]\n",
    "#2023 07 01, 9:00am timezone = est\n",
    "est = pytz.timezone('US/Eastern')\n",
    "hours = np.arange(0,23,1)\n",
    "minutes = np.array([0,30])\n",
    "total_rec = 0\n",
    "bright_field = np.zeros(central_points.points.shape[0])\n",
    "for i_h, hr_ in enumerate(hours):\n",
    "    for i_m, min_ in enumerate(minutes):\n",
    "        est_time = est.localize(datetime.datetime(2023, 7, 1, hr_, min_, 0))  # Replace with your desired EST time\n",
    "        # Convert EST time to UTC\n",
    "        utc_time = est_time.astimezone(pytz.utc)\n",
    "        #get sun location\n",
    "        d_sun = 1.5e11\n",
    "        alt_deg = get_altitude(lat, long, utc_time)\n",
    "        az_deg = get_azimuth(lat, long, utc_time)\n",
    "\n",
    "        sun_coord = np.array([np.cos(np.deg2rad(az_deg)) * d_sun, \n",
    "                             np.sin(np.deg2rad(az_deg)) * d_sun, \n",
    "                             np.sin(np.deg2rad(alt_deg)) * d_sun])\n",
    "        #print('Sun coordinate: {}'.format(sun_coord))\n",
    "        cell_ind = []\n",
    "        #print('Radiation: {}'.format(radiation.get_radiation_direct(utc_time, alt_deg)))\n",
    "        if radiation.get_radiation_direct(utc_time, alt_deg) > 200:\n",
    "            total_rec += 1\n",
    "            for i,point in enumerate(central_points.points):\n",
    "                points, ind = box.ray_trace(point, sun_coord)\n",
    "                if len(points) == 0:\n",
    "                    bright_field[i] += 1\n",
    "        \n",
    "central_points['sunlite'] = bright_field"
   ]
  },
  {
   "cell_type": "code",
   "execution_count": 161,
   "id": "997d4bee-2aa8-4e20-89b9-b25fba71e939",
   "metadata": {},
   "outputs": [
    {
     "data": {
      "application/vnd.jupyter.widget-view+json": {
       "model_id": "8b2ea7533f254503aee195c99f6df378",
       "version_major": 2,
       "version_minor": 0
      },
      "text/plain": [
       "Widget(value=\"<iframe src='http://localhost:58104/index.html?ui=P_0x29e0eac74d0_19&reconnect=auto' style='widt…"
      ]
     },
     "metadata": {},
     "output_type": "display_data"
    }
   ],
   "source": [
    "p = pv.Plotter()\n",
    "p.add_mesh(box)\n",
    "p.add_mesh(central_points,scalars='sunlite',clim=[0,20])\n",
    "p.view_xy()\n",
    "p.show()"
   ]
  },
  {
   "cell_type": "code",
   "execution_count": null,
   "id": "1f70dc44-31c5-4427-9a8d-9b6bb5e70f19",
   "metadata": {},
   "outputs": [],
   "source": []
  }
 ],
 "metadata": {
  "kernelspec": {
   "display_name": "Python 3 (ipykernel)",
   "language": "python",
   "name": "python3"
  },
  "language_info": {
   "codemirror_mode": {
    "name": "ipython",
    "version": 3
   },
   "file_extension": ".py",
   "mimetype": "text/x-python",
   "name": "python",
   "nbconvert_exporter": "python",
   "pygments_lexer": "ipython3",
   "version": "3.11.5"
  }
 },
 "nbformat": 4,
 "nbformat_minor": 5
}
