{
 "cells": [
  {
   "cell_type": "code",
   "execution_count": 1,
   "id": "a6ed2c9f-92bf-483c-8de1-d93ef1472349",
   "metadata": {},
   "outputs": [],
   "source": [
    "from pysolar.solar import *\n",
    "import datetime\n",
    "import pytz\n",
    "import pyvista as pv\n",
    "import numpy as np\n",
    "#load geometry\n",
    "plane = pv.read('geometry/plane.stl')\n",
    "box = pv.read('geometry/box.stl')\n",
    "central_points = plane.cell_centers()\n",
    "\n",
    "lat,long = [43.48574132496213, -80.48384643009003]\n",
    "#2023 07 01, 9:00am timezone = est\n",
    "est = pytz.timezone('US/Eastern')\n",
    "hours = np.arange(0,23,1)\n",
    "minutes = np.array([0,30])\n",
    "total_rec = 0\n",
    "bright_field = np.zeros(central_points.points.shape[0])\n",
    "for i_h, hr_ in enumerate(hours):\n",
    "    for i_m, min_ in enumerate(minutes):\n",
    "        est_time = est.localize(datetime.datetime(2023, 7, 1, hr_, min_, 0))  # Replace with your desired EST time\n",
    "        # Convert EST time to UTC\n",
    "        utc_time = est_time.astimezone(pytz.utc)\n",
    "        #get sun location\n",
    "        d_sun = 1.5e11\n",
    "        alt_deg = get_altitude(lat, long, utc_time)\n",
    "        az_deg = get_azimuth(lat, long, utc_time)\n",
    "\n",
    "        sun_coord = np.array([np.cos(np.deg2rad(az_deg)) * d_sun, \n",
    "                             np.sin(np.deg2rad(az_deg)) * d_sun, \n",
    "                             np.sin(np.deg2rad(alt_deg)) * d_sun])\n",
    "        #print('Sun coordinate: {}'.format(sun_coord))\n",
    "        cell_ind = []\n",
    "        #print('Radiation: {}'.format(radiation.get_radiation_direct(utc_time, alt_deg)))\n",
    "        if radiation.get_radiation_direct(utc_time, alt_deg) > 200:\n",
    "            total_rec += 1\n",
    "            for i,point in enumerate(central_points.points):\n",
    "                points, ind = box.ray_trace(point, sun_coord)\n",
    "                if len(points) == 0:\n",
    "                    bright_field[i] += 1\n",
    "        \n",
    "central_points['sunlite'] = bright_field"
   ]
  },
  {
   "cell_type": "code",
   "execution_count": 6,
   "id": "79d9f2fe",
   "metadata": {},
   "outputs": [],
   "source": [
    "import matplotlib.colors as mcolors\n",
    "import matplotlib.colors as clr\n",
    "import json\n",
    "def linear_colorscheme(json_path):\n",
    "    \"\"\"Convert the json format linearly spaced color scheme to a matplotlib colormap.\n",
    "    Args:\n",
    "        json_path (str): Path of the color scheme in json format. Can be a direct output from paraview\n",
    "    Returns:\n",
    "        cmap (LinearSegmentedColormap): Linearly spaced colormap object. Can be used in pyvista plotters\n",
    "    \"\"\"\n",
    "    with open(json_path) as f:\n",
    "        color_dict = json.load(f)[0]\n",
    "    # read control points (RGB)\n",
    "    control_points_rgb = []\n",
    "    points = []\n",
    "    if len(color_dict['RGBPoints']) % 4 != 0:\n",
    "        raise ValueError(\"RGPPoints length is not correct\")\n",
    "    for i in range(int(len(color_dict['RGBPoints'])/4)):\n",
    "        control_points_rgb.append((color_dict['RGBPoints'][i*4+1],color_dict['RGBPoints'][i*4+2],color_dict['RGBPoints'][i*4+3]))\n",
    "        points.append(color_dict['RGBPoints'][i*4])\n",
    "    points_ratio = [(x - points[0]) / (points[-1] - points[0]) for x in points]\n",
    "    # interpolate color values between control points based on selected color space\n",
    "    # paraview also has diverging, lab/CIEDE2000, step but here they are not included\n",
    "    # first need to convert RGBPoints to the selected color space\n",
    "    # then interpolate between control points\n",
    "    # then convert the value from the selected color space back to RGB because matplotlib only takes RGB\n",
    "    N = 255\n",
    "    def interp_rgb(mapped_color, points_ratio):\n",
    "        cmap_data = np.ones((N, 3))\n",
    "        for i in range(len(mapped_color)-1):\n",
    "            idx_start = int(points_ratio[i] * N)\n",
    "            idx_end = int(points_ratio[i+1] * N)\n",
    "            cmap_data[idx_start:idx_end, 0] = np.linspace(mapped_color[i][0],\n",
    "                                        control_points_rgb[i+1][0], \n",
    "                                        idx_end - idx_start)\n",
    "            cmap_data[idx_start:idx_end, 1] = np.linspace(mapped_color[i][1],\n",
    "                                        control_points_rgb[i+1][1], \n",
    "                                        idx_end - idx_start)\n",
    "            cmap_data[idx_start:idx_end, 2] = np.linspace(mapped_color[i][2],\n",
    "                                        control_points_rgb[i+1][2], \n",
    "                                        idx_end - idx_start)\n",
    "        return(cmap_data)\n",
    "    def interp_hsv(mapped_color,points_ratio):\n",
    "        cmap_data = np.ones((N+1, 3))\n",
    "        x = np.zeros(N+1)\n",
    "        for i in range(len(points_ratio)-1):\n",
    "            idx_start = int(points_ratio[i] * N)\n",
    "            idx_end = int(points_ratio[i+1] * N)\n",
    "            x[idx_start:(idx_end+1)] = np.linspace(points_ratio[i], points_ratio[i+1], idx_end - idx_start+1)\n",
    "        cmap_data[:, 0] = np.interp(x, np.linspace(0, 1, len(mapped_color)), [p[0] for p in mapped_color])\n",
    "        cmap_data[:, 1] = np.interp(x, np.linspace(0, 1, len(mapped_color)), [p[1] for p in mapped_color])\n",
    "        cmap_data[:, 2] = np.interp(x, np.linspace(0, 1, len(mapped_color)), [p[2] for p in mapped_color])\n",
    "        return(cmap_data)\n",
    "    if color_dict['ColorSpace'].lower() == 'lab':\n",
    "        from colorspacious import cspace_convert\n",
    "        mapped_color = cspace_convert(control_points_rgb, start='sRGB1', end='CIELab')\n",
    "        rgb_colors = cspace_convert(interp_rgb(mapped_color,points_ratio), start='CIELab', end='sRGB1')\n",
    "    elif color_dict['ColorSpace'].lower() == 'hsv':\n",
    "        mapped_color = [mcolors.rgb_to_hsv(rgb) for rgb in control_points_rgb]\n",
    "        rgb_colors = [mcolors.hsv_to_rgb(map_data) for map_data in interp_hsv(mapped_color,points_ratio)]\n",
    "    else:\n",
    "        rgb_colors = interp_rgb(control_points_rgb,points_ratio)\n",
    "    cmap = clr.LinearSegmentedColormap.from_list(color_dict['Name'], rgb_colors, N)\n",
    "    if 'NanColor' in color_dict.keys():\n",
    "        cmap.set_bad(color = color_dict['NanColor'])\n",
    "    return (cmap)\n"
   ]
  },
  {
   "cell_type": "code",
   "execution_count": 7,
   "id": "6799fbc5",
   "metadata": {},
   "outputs": [],
   "source": [
    "rbs=linear_colorscheme(r'../static/rbs.json')"
   ]
  },
  {
   "cell_type": "code",
   "execution_count": 10,
   "id": "997d4bee-2aa8-4e20-89b9-b25fba71e939",
   "metadata": {},
   "outputs": [
    {
     "data": {
      "application/vnd.jupyter.widget-view+json": {
       "model_id": "e2405ceeb4544f6aa71e280d5d0103d9",
       "version_major": 2,
       "version_minor": 0
      },
      "text/plain": [
       "Widget(value=\"<iframe src='http://localhost:63692/index.html?ui=P_0x280988213d0_4&reconnect=auto' style='width…"
      ]
     },
     "metadata": {},
     "output_type": "display_data"
    }
   ],
   "source": [
    "p = pv.Plotter()\n",
    "p.add_mesh(box)\n",
    "p.add_mesh(central_points,scalars='sunlite',clim=[0,8],cmap=rbs)\n",
    "p.view_xy()\n",
    "p.show()"
   ]
  },
  {
   "cell_type": "code",
   "execution_count": null,
   "id": "1f70dc44-31c5-4427-9a8d-9b6bb5e70f19",
   "metadata": {},
   "outputs": [],
   "source": []
  }
 ],
 "metadata": {
  "kernelspec": {
   "display_name": "Python 3 (ipykernel)",
   "language": "python",
   "name": "python3"
  },
  "language_info": {
   "codemirror_mode": {
    "name": "ipython",
    "version": 3
   },
   "file_extension": ".py",
   "mimetype": "text/x-python",
   "name": "python",
   "nbconvert_exporter": "python",
   "pygments_lexer": "ipython3",
   "version": "3.11.3"
  }
 },
 "nbformat": 4,
 "nbformat_minor": 5
}
