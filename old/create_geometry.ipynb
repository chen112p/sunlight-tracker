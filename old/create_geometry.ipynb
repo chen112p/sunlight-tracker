{
 "cells": [
  {
   "cell_type": "code",
   "execution_count": 2,
   "id": "99077d63-e7d0-48bb-95d2-39ff97391883",
   "metadata": {
    "tags": []
   },
   "outputs": [],
   "source": [
    "import pyvista as pv\n",
    "box = pv.Box(bounds = (-5,5,-5,5,0,5))\n",
    "plane = pv.Plane(center=(0.0, 0.0, 0.0), direction=(0.0, 0.0, 1.0), i_size=50, j_size=50, i_resolution=50, j_resolution=50)\n"
   ]
  },
  {
   "cell_type": "code",
   "execution_count": 22,
   "id": "caa02485",
   "metadata": {},
   "outputs": [],
   "source": [
    "fences = pv.Box(bounds = (-20,5,\n",
    "                          19.5,20,\n",
    "                          0,4))  + \\\n",
    "        pv.Box(bounds = (-20,-19.5,\n",
    "                         -20,20,\n",
    "                          0,4)) + \\\n",
    "        pv.Box(bounds = (-20,5,\n",
    "                         -19.5,-20,\n",
    "                          0,4))"
   ]
  },
  {
   "cell_type": "code",
   "execution_count": 23,
   "id": "3836010a",
   "metadata": {},
   "outputs": [
    {
     "data": {
      "application/vnd.jupyter.widget-view+json": {
       "model_id": "92247cb2199940159a49159f32c00b34",
       "version_major": 2,
       "version_minor": 0
      },
      "text/plain": [
       "Widget(value=\"<iframe src='http://localhost:49896/index.html?ui=P_0x123713ac490_11&reconnect=auto' style='widt…"
      ]
     },
     "metadata": {},
     "output_type": "display_data"
    }
   ],
   "source": [
    "p = pv.Plotter()\n",
    "p.add_mesh(box)\n",
    "p.add_mesh(fences)\n",
    "p.show()"
   ]
  },
  {
   "cell_type": "code",
   "execution_count": 24,
   "id": "63e4d4a4-972d-4f5a-a006-e45cc1322184",
   "metadata": {},
   "outputs": [],
   "source": [
    "box.save('geometry/box.stl')\n",
    "plane.save('geometry/plane.stl')\n",
    "fences.save('geometry/fences.stl')"
   ]
  },
  {
   "cell_type": "code",
   "execution_count": null,
   "id": "0a282147",
   "metadata": {},
   "outputs": [],
   "source": []
  }
 ],
 "metadata": {
  "kernelspec": {
   "display_name": "Python 3 (ipykernel)",
   "language": "python",
   "name": "python3"
  },
  "language_info": {
   "codemirror_mode": {
    "name": "ipython",
    "version": 3
   },
   "file_extension": ".py",
   "mimetype": "text/x-python",
   "name": "python",
   "nbconvert_exporter": "python",
   "pygments_lexer": "ipython3",
   "version": "3.11.3"
  }
 },
 "nbformat": 4,
 "nbformat_minor": 5
}
