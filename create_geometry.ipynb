{
 "cells": [
  {
   "cell_type": "code",
   "execution_count": 1,
   "id": "99077d63-e7d0-48bb-95d2-39ff97391883",
   "metadata": {
    "tags": []
   },
   "outputs": [],
   "source": [
    "import pyvista as pv\n",
    "box = pv.Box(bounds = (-5,5,-5,5,0,5))\n",
    "plane = pv.Plane(center=(0.0, 0.0, 0.0), direction=(0.0, 0.0, 1.0), i_size=50, j_size=50, i_resolution=50, j_resolution=50)\n"
   ]
  },
  {
   "cell_type": "code",
   "execution_count": 5,
   "id": "63e4d4a4-972d-4f5a-a006-e45cc1322184",
   "metadata": {},
   "outputs": [],
   "source": [
    "box.save('geometry/box.stl')\n",
    "plane.save('geometry/plane.stl')"
   ]
  }
 ],
 "metadata": {
  "kernelspec": {
   "display_name": "Python 3 (ipykernel)",
   "language": "python",
   "name": "python3"
  },
  "language_info": {
   "codemirror_mode": {
    "name": "ipython",
    "version": 3
   },
   "file_extension": ".py",
   "mimetype": "text/x-python",
   "name": "python",
   "nbconvert_exporter": "python",
   "pygments_lexer": "ipython3",
   "version": "3.11.5"
  }
 },
 "nbformat": 4,
 "nbformat_minor": 5
}
